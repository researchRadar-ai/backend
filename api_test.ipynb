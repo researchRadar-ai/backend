{
 "cells": [
  {
   "cell_type": "code",
   "execution_count": 46,
   "metadata": {},
   "outputs": [],
   "source": [
    "import json\n",
    "import pandas as pd\n",
    "import uuid\n",
    "import pprint as pp\n",
    "pprint = pp.PrettyPrinter(indent=4).pprint"
   ]
  },
  {
   "cell_type": "code",
   "execution_count": 18,
   "metadata": {},
   "outputs": [
    {
     "data": {
      "text/plain": [
       "UUID('05e17252-7d6f-4efd-afa1-07d388a60d9e')"
      ]
     },
     "execution_count": 18,
     "metadata": {},
     "output_type": "execute_result"
    }
   ],
   "source": [
    "uuid.uuid4()"
   ]
  },
  {
   "cell_type": "code",
   "execution_count": 20,
   "metadata": {},
   "outputs": [
    {
     "data": {
      "text/plain": [
       "{'id': '6e7d44c0-6033-4d2d-9fa0-aec24981ba35',\n",
       " 'name': 'Sample Project',\n",
       " 'papers': []}"
      ]
     },
     "execution_count": 20,
     "metadata": {},
     "output_type": "execute_result"
    }
   ],
   "source": [
    "{\n",
    "    \"id\": str(uuid.uuid4()),\n",
    "    \"name\": \"Sample Project\",\n",
    "    \"papers\": [],\n",
    "}"
   ]
  },
  {
   "cell_type": "code",
   "execution_count": 21,
   "metadata": {},
   "outputs": [
    {
     "data": {
      "text/plain": [
       "{'id': '5372b106-228e-4a32-846d-2f323a19b4cc',\n",
       " 'title': 'Sample Paper',\n",
       " 'authors': ['Author 1', 'Author 2'],\n",
       " 'abstract': 'This is a sample abstract',\n",
       " 'year': 2020}"
      ]
     },
     "execution_count": 21,
     "metadata": {},
     "output_type": "execute_result"
    }
   ],
   "source": [
    "# Paper general information\n",
    "{\n",
    "    \"id\": str(uuid.uuid4()),\n",
    "    \"title\": \"Sample Paper\",\n",
    "    \"authors\": [\"Author 1\", \"Author 2\"],\n",
    "    \"abstract\": \"This is a sample abstract\",\n",
    "    \"year\": 2020,\n",
    "}"
   ]
  },
  {
   "cell_type": "code",
   "execution_count": 53,
   "metadata": {},
   "outputs": [
    {
     "name": "stdout",
     "output_type": "stream",
     "text": [
      "{   'abstract': 'Quantum computing allows for the potential of significant '\n",
      "                'advancements in\\n'\n",
      "                'both the speed and the capacity of widely used machine '\n",
      "                'learning techniques.\\n'\n",
      "                'Here we employ quantum algorithms for the Hopfield network, '\n",
      "                'which can be used\\n'\n",
      "                'for pattern recognition, reconstruction, and optimization as '\n",
      "                'a realization of a\\n'\n",
      "                'content-addressable memory system. We show that an '\n",
      "                'exponentially large network\\n'\n",
      "                'can be stored in a polynomial number of quantum bits by '\n",
      "                'encoding the network\\n'\n",
      "                'into the amplitudes of quantum states. By introducing a '\n",
      "                'classical technique for\\n'\n",
      "                'operating the Hopfield network, we can leverage quantum '\n",
      "                'algorithms to obtain a\\n'\n",
      "                'quantum computational complexity that is logarithmic in the '\n",
      "                'dimension of the\\n'\n",
      "                'data. We also present an application of our method as a '\n",
      "                'genetic sequence\\n'\n",
      "                'recognizer.',\n",
      "    'authors': [   'Patrick Rebentrost',\n",
      "                   'Thomas R. Bromley',\n",
      "                   'Christian Weedbrook',\n",
      "                   'Seth Lloyd'],\n",
      "    'citations': 125,\n",
      "    'paper_id': '1710.03599',\n",
      "    'title': 'Quantum Hopfield neural network',\n",
      "    'year': '2017'}\n"
     ]
    }
   ],
   "source": [
    "import requests\n",
    "import xml.etree.ElementTree as ET\n",
    "\n",
    "\n",
    "\n",
    "def get_semantic_scholar_info(arxiv_id):\n",
    "    base_url = \"https://api.semanticscholar.org/v1/paper/arXiv:\"\n",
    "    \n",
    "    # Fetch data from Semantic Scholar\n",
    "    response = requests.get(base_url + arxiv_id)\n",
    "    data = response.json()\n",
    "\n",
    "    # Return citation count and impact score\n",
    "    # Note: Semantic Scholar doesn't have a generic \"impact score\", but citations can be a metric of impact.\n",
    "    return len(data.get(\"citations\", []))\n",
    "\n",
    "\n",
    "\n",
    "def get_paper_base_data(paper_id):\n",
    "    base_url = \"http://export.arxiv.org/api/query?\"\n",
    "    query = \"id_list=\" + paper_id\n",
    "    \n",
    "    # Send a GET request to the arXiv API\n",
    "    response = requests.get(base_url + query)\n",
    "    \n",
    "    # Raise an exception if the request was unsuccessful\n",
    "    response.raise_for_status()\n",
    "    \n",
    "    # Parse the XML response\n",
    "    root = ET.fromstring(response.text)\n",
    "    \n",
    "    # Extract information from XML\n",
    "    ns = {'default': 'http://www.w3.org/2005/Atom'}\n",
    "    entry = root.find('default:entry', ns)\n",
    "    \n",
    "    title = entry.find('default:title', ns).text.strip()\n",
    "    authors = [author.find('default:name', ns).text for author in entry.findall('default:author', ns)]\n",
    "    abstract = entry.find('default:summary', ns).text.strip()\n",
    "    year = entry.find('default:published', ns).text.split('-')[0]\n",
    "    \n",
    "    # Return the extracted information in the desired format\n",
    "    return {\n",
    "        \"paper_id\": paper_id,\n",
    "        \"title\": title,\n",
    "        \"authors\": authors,\n",
    "        \"abstract\": abstract,\n",
    "        \"year\": year,\n",
    "        \"citations\": get_semantic_scholar_info(paper_id)\n",
    "    }\n",
    "\n",
    "# Test\n",
    "paper_id = \"1710.03599\"\n",
    "# paper_id = \"2101.12345\"\n",
    "pprint(get_paper_base_data(paper_id))\n"
   ]
  },
  {
   "cell_type": "code",
   "execution_count": 44,
   "metadata": {},
   "outputs": [],
   "source": [
    "paper_in_project = {\n",
    "    \"paper_id\": \"1710.03599\",\n",
    "    \"project_id\": \"1234567890\",\n",
    "    \"rating\": 1,\n",
    "    \"annotations\": {},\n",
    "    \"engagement\": {\n",
    "        \"view_count\": 0,\n",
    "        \"view_duration\": 0,\n",
    "    },\n",
    "    \"saved\": True,\n",
    "    \"read\": False\n",
    "}"
   ]
  },
  {
   "cell_type": "code",
   "execution_count": 48,
   "metadata": {},
   "outputs": [],
   "source": [
    "import pysondb"
   ]
  },
  {
   "cell_type": "code",
   "execution_count": 62,
   "metadata": {},
   "outputs": [
    {
     "name": "stdout",
     "output_type": "stream",
     "text": [
      "utf-8\n"
     ]
    },
    {
     "data": {
      "text/plain": [
       "823153983130900377"
      ]
     },
     "execution_count": 62,
     "metadata": {},
     "output_type": "execute_result"
    }
   ],
   "source": [
    "def add_project(name):\n",
    "    project = {\n",
    "        \"name\": name,\n",
    "        \"papers\": [],\n",
    "    }\n",
    "    return projects.add(project) # returns id"
   ]
  },
  {
   "cell_type": "code",
   "execution_count": 84,
   "metadata": {},
   "outputs": [],
   "source": [
    "def add_paper_to_project(project_id, paper_id):\n",
    "    project_paper = {\n",
    "        \"project_id\": project_id,\n",
    "        \"paper_id\": paper_id,\n",
    "        \"rating\": 1,\n",
    "        \"annotations\": {},\n",
    "        \"engagement\": {\n",
    "            \"click_count\": 0,\n",
    "            \"view_duration\": 0,\n",
    "        },\n",
    "        \"saved\": False,\n",
    "        \"read\": False\n",
    "    }\n",
    "    id = projPapers.add(project_paper)\n",
    "\n",
    "    old_papers = projects.getById(project_id)[\"papers\"]\n",
    "    old_papers.append(id)\n",
    "\n",
    "    projects.updateById(project_id, {\"papers\": old_papers})"
   ]
  },
  {
   "cell_type": "code",
   "execution_count": 82,
   "metadata": {},
   "outputs": [],
   "source": [
    "def update_engagement(metric, value, project_id, paper_id):\n",
    "    db_paper_id = projPapers.getByQuery({\"paper_id\": paper_id, \"project_id\": project_id})[0][\"id\"]\n",
    "    \n",
    "    if metric == \"click\":\n",
    "        upd_engagement = projPapers.getById(db_paper_id)[\"engagement\"]\n",
    "        upd_engagement[\"click_count\"] += 1\n",
    "        projPapers.updateById(db_paper_id, {\"engagement\": upd_engagement})\n",
    "    elif metric == \"view\":\n",
    "        upd_engagement = projPapers.getById(db_paper_id)[\"engagement\"]\n",
    "        upd_engagement[\"view_duration\"] += value\n",
    "        projPapers.updateById(db_paper_id, {\"engagement\": upd_engagement})\n",
    "    elif metric == \"read\":\n",
    "        projPapers.updateById(db_paper_id, {\"read\": value})\n",
    "    elif metric == \"save\":\n",
    "        projPapers.updateById(db_paper_id, {\"saved\": value})\n"
   ]
  },
  {
   "cell_type": "code",
   "execution_count": 87,
   "metadata": {},
   "outputs": [
    {
     "name": "stdout",
     "output_type": "stream",
     "text": [
      "utf-8\n",
      "utf-8\n",
      "utf-8\n",
      "utf-8\n",
      "utf-8\n",
      "utf-8\n",
      "utf-8\n",
      "utf-8\n",
      "utf-8\n",
      "utf-8\n",
      "utf-8\n",
      "utf-8\n",
      "utf-8\n",
      "utf-8\n",
      "utf-8\n",
      "utf-8\n",
      "utf-8\n",
      "utf-8\n",
      "utf-8\n",
      "utf-8\n",
      "utf-8\n"
     ]
    }
   ],
   "source": [
    "papers = pysondb.db.getDb(\"data/papers\")\n",
    "projects = pysondb.db.getDb(\"data/projects\")\n",
    "projPapers = pysondb.db.getDb(\"data/project_papers\")\n",
    "\n",
    "papers.deleteAll()\n",
    "projects.deleteAll()\n",
    "projPapers.deleteAll()\n",
    "\n",
    "# testing: this is intital data\n",
    "\n",
    "paper_ids = ['1709.02779',\n",
    " '1611.09347',\n",
    " '1611.09347v2',\n",
    " '1708.09757',\n",
    " '1709.02779',\n",
    " '1707.08561v1',\n",
    " '1708.09757v1',\n",
    " '2208.08068',\n",
    " '1710.03599v1',\n",
    " '1908.04480v2']\n",
    "\n",
    "proj_id = add_project(\"Sample Project\")\n",
    "\n",
    "for paper_id in paper_ids:\n",
    "    papers.add(get_paper_base_data(paper_id))\n",
    "    add_paper_to_project(proj_id, paper_id)\n",
    "\n",
    "    \n",
    "\n",
    "update_engagement(\"click\", 1, proj_id, paper_id)\n",
    "update_engagement(\"view\", 15, proj_id, paper_id)\n",
    "update_engagement(\"view\", 15, proj_id, paper_id)\n",
    "update_engagement(\"read\", True, proj_id, paper_id)\n",
    "update_engagement(\"save\", True, proj_id, paper_id)\n"
   ]
  }
 ],
 "metadata": {
  "kernelspec": {
   "display_name": ".venv",
   "language": "python",
   "name": "python3"
  },
  "language_info": {
   "codemirror_mode": {
    "name": "ipython",
    "version": 3
   },
   "file_extension": ".py",
   "mimetype": "text/x-python",
   "name": "python",
   "nbconvert_exporter": "python",
   "pygments_lexer": "ipython3",
   "version": "3.11.5"
  },
  "orig_nbformat": 4
 },
 "nbformat": 4,
 "nbformat_minor": 2
}
