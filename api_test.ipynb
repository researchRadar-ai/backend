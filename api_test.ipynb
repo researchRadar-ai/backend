{
 "cells": [
  {
   "cell_type": "code",
   "execution_count": 1,
   "metadata": {},
   "outputs": [],
   "source": [
    "import json\n",
    "import pandas as pd\n",
    "import uuid\n",
    "import pprint as pp\n",
    "pprint = pp.PrettyPrinter(indent=4).pprint\n",
    "import requests\n",
    "import pysondb\n",
    "import xml.etree.ElementTree as ET"
   ]
  },
  {
   "cell_type": "code",
   "execution_count": 62,
   "metadata": {},
   "outputs": [
    {
     "name": "stdout",
     "output_type": "stream",
     "text": [
      "[\n",
      "  {\n",
      "    \"abstract\": \"With quantum computing technologies nearing the era of commercialization and\\nquantum supremacy, machine learning (ML) appears as one of the promising\\n\\\"killer\\\" applications. Despite significant effort, there has been a disconnect\\nbetween most quantum ML proposals, the needs of ML practitioners, and the\\ncapabilities of near-term quantum devices to demonstrate quantum enhancement in\\nthe near future. In this contribution to the focus collection on \\\"What would\\nyou do with 1000 qubits?\\\", we provide concrete examples of intractable ML tasks\\nthat could be enhanced with near-term devices. We argue that to reach this\\ntarget, the focus should be on areas where ML researchers are struggling, such\\nas generative models in unsupervised and semi-supervised learning, instead of\\nthe popular and more tractable supervised learning techniques. We also\\nhighlight the case of classical datasets with potential quantum-like\\nstatistical correlations where quantum models could be more suitable. We focus\\non hybrid quantum-classical approaches and illustrate some of the key\\nchallenges we foresee for near-term implementations. Finally, we introduce the\\nquantum-assisted Helmholtz machine (QAHM), an attempt to use near-term quantum\\ndevices to tackle high-dimensional datasets of continuous variables. Instead of\\nusing quantum computers to assist deep learning, as previous approaches do, the\\nQAHM uses deep learning to extract a low-dimensional binary representation of\\ndata, suitable for relatively small quantum processors which can assist the\\ntraining of an unsupervised generative model. Although we illustrate this\\nconcept on a quantum annealer, other quantum platforms could benefit as well\\nfrom this hybrid quantum-classical framework.\",\n",
      "    \"authors\": \"Alejandro Perdomo-Ortiz, Marcello Benedetti, John Realpe-G\\u00f3mez, Rupak Biswas\",\n",
      "    \"id\": 884179599198170424,\n",
      "    \"journal\": \"bullshit\",\n",
      "    \"title\": \"Opportunities and challenges for quantum-assisted machine learning in\\n  near-term quantum computers\",\n",
      "    \"year\": \"2017\"\n",
      "  }\n",
      "]\n",
      "\n"
     ]
    }
   ],
   "source": [
    "url = \"http://localhost:3000/api/project/list_papers\"\n",
    "headers = {\n",
    "    'Content-Type': 'application/json'\n",
    "}\n",
    "data = {\n",
    "    # 'type': \"saved\", # or toread\n",
    "    'type': \"toread\", # or toread\n",
    "    'project_id': 148702791823144807,\n",
    "}\n",
    "\n",
    "\n",
    "response = requests.post(url, headers=headers, data=json.dumps(data))\n",
    "\n",
    "print(response.text)\n",
    "\n",
    "# add_project(\"robotaics\")"
   ]
  },
  {
   "cell_type": "code",
   "execution_count": null,
   "metadata": {},
   "outputs": [],
   "source": []
  },
  {
   "cell_type": "code",
   "execution_count": 23,
   "metadata": {},
   "outputs": [
    {
     "name": "stdout",
     "output_type": "stream",
     "text": [
      "{   'abstract': 'Quantum computing allows for the potential of significant '\n",
      "                'advancements in\\n'\n",
      "                'both the speed and the capacity of widely used machine '\n",
      "                'learning techniques.\\n'\n",
      "                'Here we employ quantum algorithms for the Hopfield network, '\n",
      "                'which can be used\\n'\n",
      "                'for pattern recognition, reconstruction, and optimization as '\n",
      "                'a realization of a\\n'\n",
      "                'content-addressable memory system. We show that an '\n",
      "                'exponentially large network\\n'\n",
      "                'can be stored in a polynomial number of quantum bits by '\n",
      "                'encoding the network\\n'\n",
      "                'into the amplitudes of quantum states. By introducing a '\n",
      "                'classical technique for\\n'\n",
      "                'operating the Hopfield network, we can leverage quantum '\n",
      "                'algorithms to obtain a\\n'\n",
      "                'quantum computational complexity that is logarithmic in the '\n",
      "                'dimension of the\\n'\n",
      "                'data. We also present an application of our method as a '\n",
      "                'genetic sequence\\n'\n",
      "                'recognizer.',\n",
      "    'authors': [   'Patrick Rebentrost',\n",
      "                   'Thomas R. Bromley',\n",
      "                   'Christian Weedbrook',\n",
      "                   'Seth Lloyd'],\n",
      "    'citations': 125,\n",
      "    'paper_id': '1710.03599',\n",
      "    'title': 'Quantum Hopfield neural network',\n",
      "    'year': '2017'}\n"
     ]
    }
   ],
   "source": [
    "\n",
    "\n",
    "\n",
    "\n",
    "def get_semantic_scholar_info(arxiv_id):\n",
    "    base_url = \"https://api.semanticscholar.org/v1/paper/arXiv:\"\n",
    "    \n",
    "    # Fetch data from Semantic Scholar\n",
    "    response = requests.get(base_url + arxiv_id)\n",
    "    data = response.json()\n",
    "\n",
    "    # Return citation count and impact score\n",
    "    # Note: Semantic Scholar doesn't have a generic \"impact score\", but citations can be a metric of impact.\n",
    "    return len(data.get(\"citations\", []))\n",
    "\n",
    "\n",
    "\n",
    "def get_paper_base_data(paper_id):\n",
    "    base_url = \"http://export.arxiv.org/api/query?\"\n",
    "    query = \"id_list=\" + paper_id\n",
    "    \n",
    "    # Send a GET request to the arXiv API\n",
    "    response = requests.get(base_url + query)\n",
    "    \n",
    "    # Raise an exception if the request was unsuccessful\n",
    "    response.raise_for_status()\n",
    "    \n",
    "    # Parse the XML response\n",
    "    root = ET.fromstring(response.text)\n",
    "    \n",
    "    # Extract information from XML\n",
    "    ns = {'default': 'http://www.w3.org/2005/Atom'}\n",
    "    entry = root.find('default:entry', ns)\n",
    "    \n",
    "    title = entry.find('default:title', ns).text.strip()\n",
    "    authors = [author.find('default:name', ns).text for author in entry.findall('default:author', ns)]\n",
    "    abstract = entry.find('default:summary', ns).text.strip()\n",
    "    year = entry.find('default:published', ns).text.split('-')[0]\n",
    "    \n",
    "    # Return the extracted information in the desired format\n",
    "    return {\n",
    "        \"paper_id\": paper_id,\n",
    "        \"title\": title,\n",
    "        \"authors\": authors,\n",
    "        \"abstract\": abstract,\n",
    "        \"year\": year,\n",
    "        \"citations\": get_semantic_scholar_info(paper_id)\n",
    "    }\n",
    "\n",
    "# Test\n",
    "paper_id = \"1710.03599\"\n",
    "# paper_id = \"2101.12345\"\n",
    "pprint(get_paper_base_data(paper_id))\n"
   ]
  },
  {
   "cell_type": "code",
   "execution_count": 18,
   "metadata": {},
   "outputs": [],
   "source": [
    "paper_in_project = {\n",
    "    \"paper_id\": \"1710.03599\",\n",
    "    \"project_id\": \"1234567890\",\n",
    "    \"rating\": 1,\n",
    "    \"annotations\": {},\n",
    "    \"engagement\": {\n",
    "        \"view_count\": 0,\n",
    "        \"view_duration\": 0,\n",
    "    },\n",
    "    \"saved\": True,\n",
    "    \"read\": False\n",
    "}"
   ]
  },
  {
   "cell_type": "code",
   "execution_count": 2,
   "metadata": {},
   "outputs": [],
   "source": [
    "projects = pysondb.db.getDb(\"data/projects\")\n",
    "projPapers = pysondb.db.getDb(\"data/project_papers\")\n"
   ]
  },
  {
   "cell_type": "code",
   "execution_count": 4,
   "metadata": {},
   "outputs": [],
   "source": [
    "def add_project(name):\n",
    "    project = {\n",
    "        \"name\": name,\n",
    "        \"papers\": [],\n",
    "        \"imgUrl\": \"/AI.jpeg\"\n",
    "    }\n",
    "    return projects.add(project) # returns id"
   ]
  },
  {
   "cell_type": "code",
   "execution_count": 5,
   "metadata": {},
   "outputs": [
    {
     "name": "stdout",
     "output_type": "stream",
     "text": [
      "utf-8\n"
     ]
    },
    {
     "data": {
      "text/plain": [
       "175233565509294414"
      ]
     },
     "execution_count": 5,
     "metadata": {},
     "output_type": "execute_result"
    }
   ],
   "source": [
    "add_project(\"Computational Neuroscience\")"
   ]
  },
  {
   "cell_type": "code",
   "execution_count": 20,
   "metadata": {},
   "outputs": [],
   "source": [
    "def add_paper_to_project(project_id, paper_id): # paper_id is arxiv id\n",
    "    project_paper = {\n",
    "        \"project_id\": project_id,\n",
    "        \"paper_id\": paper_id,\n",
    "        \"rating\": 1,\n",
    "        \"annotations\": {},\n",
    "        \"engagement\": {\n",
    "            \"click_count\": 0,\n",
    "            \"view_duration\": 0,\n",
    "        },\n",
    "        \"saved\": False,\n",
    "        \"read\": False\n",
    "    }\n",
    "    id = projPapers.add(project_paper)\n",
    "\n",
    "    old_papers = projects.getById(project_id)[\"papers\"]\n",
    "    old_papers.append(id)\n",
    "\n",
    "    projects.updateById(project_id, {\"papers\": old_papers})"
   ]
  },
  {
   "cell_type": "code",
   "execution_count": 21,
   "metadata": {},
   "outputs": [],
   "source": [
    "def update_engagement(metric, value, project_id, paper_id):\n",
    "    db_paper_id = projPapers.getByQuery({\"paper_id\": paper_id, \"project_id\": project_id})[0][\"id\"]\n",
    "    \n",
    "    if metric == \"click\":\n",
    "        upd_engagement = projPapers.getById(db_paper_id)[\"engagement\"]\n",
    "        upd_engagement[\"click_count\"] += 1\n",
    "        projPapers.updateById(db_paper_id, {\"engagement\": upd_engagement})\n",
    "    elif metric == \"view\":\n",
    "        upd_engagement = projPapers.getById(db_paper_id)[\"engagement\"]\n",
    "        upd_engagement[\"view_duration\"] += value\n",
    "        projPapers.updateById(db_paper_id, {\"engagement\": upd_engagement})\n",
    "    elif metric == \"read\":\n",
    "        projPapers.updateById(db_paper_id, {\"read\": value})\n",
    "    elif metric == \"save\":\n",
    "        projPapers.updateById(db_paper_id, {\"saved\": value})\n"
   ]
  },
  {
   "cell_type": "code",
   "execution_count": null,
   "metadata": {},
   "outputs": [],
   "source": []
  },
  {
   "cell_type": "code",
   "execution_count": 63,
   "metadata": {},
   "outputs": [
    {
     "name": "stdout",
     "output_type": "stream",
     "text": [
      "utf-8\n",
      "utf-8\n",
      "utf-8\n",
      "utf-8\n",
      "utf-8\n",
      "utf-8\n",
      "utf-8\n",
      "utf-8\n",
      "utf-8\n",
      "utf-8\n",
      "utf-8\n",
      "utf-8\n",
      "utf-8\n",
      "utf-8\n",
      "utf-8\n",
      "utf-8\n",
      "utf-8\n",
      "utf-8\n",
      "utf-8\n",
      "utf-8\n",
      "utf-8\n"
     ]
    }
   ],
   "source": [
    "papers = pysondb.db.getDb(\"data/papers\")\n",
    "projects = pysondb.db.getDb(\"data/projects\")\n",
    "projPapers = pysondb.db.getDb(\"data/project_papers\")\n",
    "\n",
    "papers.deleteAll()\n",
    "projects.deleteAll()\n",
    "projPapers.deleteAll()\n",
    "\n",
    "# testing: this is intital data\n",
    "\n",
    "\n",
    "# add quantum\n",
    "project = {\n",
    "    \"name\": \"Quantum Physics\",\n",
    "    \"papers\": [],\n",
    "    \"imgUrl\": \"/QuantumPhysics.jpeg\"\n",
    "}\n",
    "qn_id = projects.add(project)\n",
    "\n",
    "\n",
    "paper_ids = ['1709.02779',\n",
    " '1611.09347',\n",
    " '1611.09347v2',\n",
    " '1708.09757',\n",
    " '1709.02779',\n",
    " '1707.08561v1',\n",
    " '1708.09757v1',\n",
    " '2208.08068',\n",
    " '1710.03599v1',\n",
    " '1908.04480v2']\n",
    "\n",
    "# proj_id = add_project(\"Sample Project\")\n",
    "\n",
    "for paper_id in paper_ids:\n",
    "    papers.add(get_paper_base_data(paper_id))\n",
    "    add_paper_to_project(qn_id, paper_id)\n",
    "\n",
    "    \n",
    "\n",
    "update_engagement(\"click\", 1, qn_id, paper_id)\n",
    "update_engagement(\"view\", 15, qn_id, paper_id)\n",
    "update_engagement(\"view\", 15, qn_id, paper_id)\n",
    "update_engagement(\"read\", True, qn_id, paper_id)\n",
    "update_engagement(\"save\", True, qn_id, paper_id)\n",
    "update_engagement(\"save\", True, qn_id, paper_ids[0])\n",
    "update_engagement(\"save\", True, qn_id, paper_ids[2])\n",
    "update_engagement(\"save\", True, qn_id, paper_ids[3])\n",
    "update_engagement(\"save\", True, qn_id, paper_ids[4])\n",
    "update_engagement(\"read\", True, qn_id, paper_ids[4])\n",
    "update_engagement(\"read\", True, qn_id, paper_ids[2])\n"
   ]
  },
  {
   "cell_type": "code",
   "execution_count": 32,
   "metadata": {},
   "outputs": [
    {
     "data": {
      "text/plain": [
       "[{'project_id': 148702791823144807,\n",
       "  'paper_id': '1709.02779',\n",
       "  'rating': 1,\n",
       "  'annotations': {},\n",
       "  'engagement': {'click_count': 0, 'view_duration': 0},\n",
       "  'saved': True,\n",
       "  'read': True,\n",
       "  'id': 178494889177972764},\n",
       " {'project_id': 148702791823144807,\n",
       "  'paper_id': '1611.09347',\n",
       "  'rating': 1,\n",
       "  'annotations': {},\n",
       "  'engagement': {'click_count': 0, 'view_duration': 0},\n",
       "  'saved': False,\n",
       "  'read': False,\n",
       "  'id': 239451734285630063},\n",
       " {'project_id': 148702791823144807,\n",
       "  'paper_id': '1611.09347v2',\n",
       "  'rating': 1,\n",
       "  'annotations': {},\n",
       "  'engagement': {'click_count': 0, 'view_duration': 0},\n",
       "  'saved': True,\n",
       "  'read': True,\n",
       "  'id': 754822796031261480},\n",
       " {'project_id': 148702791823144807,\n",
       "  'paper_id': '1708.09757',\n",
       "  'rating': 1,\n",
       "  'annotations': {},\n",
       "  'engagement': {'click_count': 0, 'view_duration': 0},\n",
       "  'saved': True,\n",
       "  'read': False,\n",
       "  'id': 207245952752736323},\n",
       " {'project_id': 148702791823144807,\n",
       "  'paper_id': '1709.02779',\n",
       "  'rating': 1,\n",
       "  'annotations': {},\n",
       "  'engagement': {'click_count': 0, 'view_duration': 0},\n",
       "  'saved': False,\n",
       "  'read': False,\n",
       "  'id': 321261517891845552},\n",
       " {'project_id': 148702791823144807,\n",
       "  'paper_id': '1707.08561v1',\n",
       "  'rating': 1,\n",
       "  'annotations': {},\n",
       "  'engagement': {'click_count': 0, 'view_duration': 0},\n",
       "  'saved': False,\n",
       "  'read': False,\n",
       "  'id': 221762369844121235},\n",
       " {'project_id': 148702791823144807,\n",
       "  'paper_id': '1708.09757v1',\n",
       "  'rating': 1,\n",
       "  'annotations': {},\n",
       "  'engagement': {'click_count': 0, 'view_duration': 0},\n",
       "  'saved': False,\n",
       "  'read': False,\n",
       "  'id': 301992180675760610},\n",
       " {'project_id': 148702791823144807,\n",
       "  'paper_id': '2208.08068',\n",
       "  'rating': 1,\n",
       "  'annotations': {},\n",
       "  'engagement': {'click_count': 0, 'view_duration': 0},\n",
       "  'saved': False,\n",
       "  'read': False,\n",
       "  'id': 128389792724135020},\n",
       " {'project_id': 148702791823144807,\n",
       "  'paper_id': '1710.03599v1',\n",
       "  'rating': 1,\n",
       "  'annotations': {},\n",
       "  'engagement': {'click_count': 0, 'view_duration': 0},\n",
       "  'saved': False,\n",
       "  'read': False,\n",
       "  'id': 165067520792241930},\n",
       " {'project_id': 148702791823144807,\n",
       "  'paper_id': '1908.04480v2',\n",
       "  'rating': 1,\n",
       "  'annotations': {},\n",
       "  'engagement': {'click_count': 1, 'view_duration': 30},\n",
       "  'saved': True,\n",
       "  'read': True,\n",
       "  'id': 236755119090511479}]"
      ]
     },
     "execution_count": 32,
     "metadata": {},
     "output_type": "execute_result"
    }
   ],
   "source": [
    "projPapers.getAll()\n",
    "\n",
    "148702791823144807\n",
    "9007199254740991"
   ]
  },
  {
   "cell_type": "code",
   "execution_count": 53,
   "metadata": {},
   "outputs": [
    {
     "name": "stdout",
     "output_type": "stream",
     "text": [
      "False True\n"
     ]
    },
    {
     "data": {
      "text/plain": [
       "[{'title': 'Opportunities and challenges for quantum-assisted machine learning in\\n  near-term quantum computers',\n",
       "  'authors': 'Alejandro Perdomo-Ortiz, Marcello Benedetti, John Realpe-Gómez, Rupak Biswas',\n",
       "  'abstract': 'With quantum computing technologies nearing the era of commercialization and\\nquantum supremacy, machine learning (ML) appears as one of the promising\\n\"killer\" applications. Despite significant effort, there has been a disconnect\\nbetween most quantum ML proposals, the needs of ML practitioners, and the\\ncapabilities of near-term quantum devices to demonstrate quantum enhancement in\\nthe near future. In this contribution to the focus collection on \"What would\\nyou do with 1000 qubits?\", we provide concrete examples of intractable ML tasks\\nthat could be enhanced with near-term devices. We argue that to reach this\\ntarget, the focus should be on areas where ML researchers are struggling, such\\nas generative models in unsupervised and semi-supervised learning, instead of\\nthe popular and more tractable supervised learning techniques. We also\\nhighlight the case of classical datasets with potential quantum-like\\nstatistical correlations where quantum models could be more suitable. We focus\\non hybrid quantum-classical approaches and illustrate some of the key\\nchallenges we foresee for near-term implementations. Finally, we introduce the\\nquantum-assisted Helmholtz machine (QAHM), an attempt to use near-term quantum\\ndevices to tackle high-dimensional datasets of continuous variables. Instead of\\nusing quantum computers to assist deep learning, as previous approaches do, the\\nQAHM uses deep learning to extract a low-dimensional binary representation of\\ndata, suitable for relatively small quantum processors which can assist the\\ntraining of an unsupervised generative model. Although we illustrate this\\nconcept on a quantum annealer, other quantum platforms could benefit as well\\nfrom this hybrid quantum-classical framework.',\n",
       "  'year': '2017',\n",
       "  'id': 884179599198170424,\n",
       "  'journal': 'bullshit'}]"
      ]
     },
     "execution_count": 53,
     "metadata": {},
     "output_type": "execute_result"
    }
   ],
   "source": [
    "request = {\n",
    "    # 'type': \"saved\", # or toread\n",
    "    'type': \"toread\", # or toread\n",
    "    'project_id': 148702791823144807,\n",
    "}\n",
    "\n",
    "def list_papers():\n",
    "    proj_papers = projPapers.getByQuery({\"project_id\": request[\"project_id\"]})\n",
    "\n",
    "    if request[\"type\"] == \"saved\":\n",
    "        proj_papers = list(filter(lambda x: x[\"saved\"] == True & x[\"read\"] == True, proj_papers))\n",
    "    elif request[\"type\"] == \"toread\":\n",
    "        new = []\n",
    "        for paper in proj_papers:\n",
    "            if paper[\"saved\"] == True and paper[\"read\"] == False:\n",
    "                new.append(paper)\n",
    "        proj_papers = new\n",
    "\n",
    "\n",
    "    # reformat and get paper data\n",
    "    output = []\n",
    "\n",
    "    for paper in proj_papers:\n",
    "        paper_data = papers.getByQuery({\"paper_id\": paper[\"paper_id\"]})[0]\n",
    "        \n",
    "        del paper_data[\"paper_id\"]\n",
    "        del paper_data[\"citations\"]\n",
    "        paper_data[\"journal\"] = \"bullshit\"\n",
    "        paper_data[\"authors\"] = ', '.join(paper_data[\"authors\"])\n",
    "\n",
    "        print(paper['read'], paper['saved'])\n",
    "\n",
    "        output.append(paper_data)\n",
    "\n",
    "\n",
    "\n",
    "    return output\n",
    "\n",
    "list_papers()"
   ]
  },
  {
   "cell_type": "code",
   "execution_count": 64,
   "metadata": {},
   "outputs": [],
   "source": [
    "from metaphor_python import Metaphor\n",
    "METAPHOR_API_KEY = \"2c14596c-15cd-42e6-b969-d4717a6f60ee\"\n",
    "metaphor = Metaphor(api_key=METAPHOR_API_KEY)"
   ]
  },
  {
   "cell_type": "code",
   "execution_count": 78,
   "metadata": {},
   "outputs": [],
   "source": [
    "def extract_arxiv_id(url):\n",
    "    end = url.split('/')[-1].split('.')\n",
    "    try:\n",
    "        return end[0] + '.' + end[1]\n",
    "    except:\n",
    "        return end[0]"
   ]
  },
  {
   "cell_type": "code",
   "execution_count": 73,
   "metadata": {},
   "outputs": [],
   "source": [
    "# today = datetime.date.today()\n",
    "# one_year_ago = today - datetime.timedelta(days=365)\n",
    "user_query = \"quantum computing\" \n",
    "\n",
    "# Metaphor API call\n",
    "response = metaphor.search(user_query, num_results=10, \n",
    "                        include_domains=[\"arxiv.org\"],\n",
    "                        # start_crawl_date=str(one_year_ago), \n",
    "                        use_autoprompt=True,)"
   ]
  },
  {
   "cell_type": "code",
   "execution_count": 82,
   "metadata": {},
   "outputs": [
    {
     "name": "stdout",
     "output_type": "stream",
     "text": [
      "utf-8\n",
      "utf-8\n",
      "utf-8\n",
      "utf-8\n",
      "utf-8\n",
      "utf-8\n",
      "utf-8\n",
      "utf-8\n",
      "utf-8\n",
      "utf-8\n"
     ]
    }
   ],
   "source": [
    "ids = [extract_arxiv_id(r.url) for r in response.results]\n",
    "\n",
    "for id in ids:\n",
    "    if papers.getByQuery({\"paper_id\": id}) == []:\n",
    "        papers.add(get_paper_base_data(id))\n",
    "    add_paper_to_project(qn_id, id) # todo change to project id"
   ]
  },
  {
   "cell_type": "code",
   "execution_count": 85,
   "metadata": {},
   "outputs": [
    {
     "data": {
      "text/plain": [
       "['1312.4455',\n",
       " '1608.00263v2',\n",
       " '1801.00862v3',\n",
       " '2209.06841',\n",
       " '1801.00862',\n",
       " '1206.0785v1',\n",
       " '1312.4455v1',\n",
       " '1501.00011v1',\n",
       " '1709.06678',\n",
       " '1710.05867v2']"
      ]
     },
     "execution_count": 85,
     "metadata": {},
     "output_type": "execute_result"
    }
   ],
   "source": [
    "ids"
   ]
  },
  {
   "cell_type": "code",
   "execution_count": null,
   "metadata": {},
   "outputs": [],
   "source": []
  },
  {
   "cell_type": "code",
   "execution_count": 89,
   "metadata": {},
   "outputs": [
    {
     "data": {
      "text/plain": [
       "[{'title': 'The universe as quantum computer',\n",
       "  'authors': 'Seth Lloyd',\n",
       "  'abstract': 'This article reviews the history of digital computation, and investigates\\njust how far the concept of computation can be taken. In particular, I address\\nthe question of whether the universe itself is in fact a giant computer, and if\\nso, just what kind of computer it is. I will show that the universe can be\\nregarded as a giant quantum computer. The quantum computational model of the\\nuniverse explains a variety of observed phenomena not encompassed by the\\nordinary laws of physics. In particular, the model shows that the the quantum\\ncomputational universe automatically gives rise to a mix of randomness and\\norder, and to both simple and complex systems.',\n",
       "  'year': '2013',\n",
       "  'id': 205079175082933215,\n",
       "  'journal': 'Unknown'},\n",
       " {'title': 'Characterizing Quantum Supremacy in Near-Term Devices',\n",
       "  'authors': 'Sergio Boixo, Sergei V. Isakov, Vadim N. Smelyanskiy, Ryan Babbush, Nan Ding, Zhang Jiang, John M. Martinis, Hartmut Neven',\n",
       "  'abstract': 'A critical question for the field of quantum computing in the near future is\\nwhether quantum devices without error correction can perform a well-defined\\ncomputational task beyond the capabilities of state-of-the-art classical\\ncomputers, achieving so-called quantum supremacy. We study the task of sampling\\nfrom the output distributions of (pseudo-)random quantum circuits, a natural\\ntask for benchmarking quantum computers. Crucially, sampling this distribution\\nclassically requires a direct numerical simulation of the circuit, with\\ncomputational cost exponential in the number of qubits. This requirement is\\ntypical of chaotic systems. We extend previous results in computational\\ncomplexity to argue more formally that this sampling task must take exponential\\ntime in a classical computer. We study the convergence to the chaotic regime\\nusing extensive supercomputer simulations, modeling circuits with up to 42\\nqubits - the largest quantum circuits simulated to date for a computational\\ntask that approaches quantum supremacy. We argue that while chaotic states are\\nextremely sensitive to errors, quantum supremacy can be achieved in the\\nnear-term with approximately fifty superconducting qubits. We introduce cross\\nentropy as a useful benchmark of quantum circuits which approximates the\\ncircuit fidelity. We show that the cross entropy can be efficiently measured\\nwhen circuit simulations are available. Beyond the classically tractable\\nregime, the cross entropy can be extrapolated and compared with theoretical\\nestimates of circuit fidelity to define a practical quantum supremacy test.',\n",
       "  'year': '2016',\n",
       "  'id': 208335457201269622,\n",
       "  'journal': 'Unknown'},\n",
       " {'title': 'Quantum Computing in the NISQ era and beyond',\n",
       "  'authors': 'John Preskill',\n",
       "  'abstract': \"Noisy Intermediate-Scale Quantum (NISQ) technology will be available in the\\nnear future. Quantum computers with 50-100 qubits may be able to perform tasks\\nwhich surpass the capabilities of today's classical digital computers, but\\nnoise in quantum gates will limit the size of quantum circuits that can be\\nexecuted reliably. NISQ devices will be useful tools for exploring many-body\\nquantum physics, and may have other useful applications, but the 100-qubit\\nquantum computer will not change the world right away --- we should regard it\\nas a significant step toward the more powerful quantum technologies of the\\nfuture. Quantum technologists should continue to strive for more accurate\\nquantum gates and, eventually, fully fault-tolerant quantum computing.\",\n",
       "  'year': '2018',\n",
       "  'id': 471143674760440845,\n",
       "  'journal': 'Unknown'},\n",
       " {'title': 'The Future of Quantum Computing with Superconducting Qubits',\n",
       "  'authors': 'Sergey Bravyi, Oliver Dial, Jay M. Gambetta, Dario Gil, Zaira Nazario',\n",
       "  'abstract': 'For the first time in history, we are seeing a branching point in computing\\nparadigms with the emergence of quantum processing units (QPUs). Extracting the\\nfull potential of computation and realizing quantum algorithms with a\\nsuper-polynomial speedup will most likely require major advances in quantum\\nerror correction technology. Meanwhile, achieving a computational advantage in\\nthe near term may be possible by combining multiple QPUs through circuit\\nknitting techniques, improving the quality of solutions through error\\nsuppression and mitigation, and focusing on heuristic versions of quantum\\nalgorithms with asymptotic speedups. For this to happen, the performance of\\nquantum computing hardware needs to improve and software needs to seamlessly\\nintegrate quantum and classical processors together to form a new architecture\\nthat we are calling quantum-centric supercomputing. Long term, we see hardware\\nthat exploits qubit connectivity in higher than 2D topologies to realize more\\nefficient quantum error correcting codes, modular architectures for scaling\\nQPUs and parallelizing workloads, and software that evolves to make the\\nintricacies of the technology invisible to the users and realize the goal of\\nubiquitous, frictionless quantum computing.',\n",
       "  'year': '2022',\n",
       "  'id': 153987216429838307,\n",
       "  'journal': 'Unknown'},\n",
       " {'title': 'Quantum Computing in the NISQ era and beyond',\n",
       "  'authors': 'John Preskill',\n",
       "  'abstract': \"Noisy Intermediate-Scale Quantum (NISQ) technology will be available in the\\nnear future. Quantum computers with 50-100 qubits may be able to perform tasks\\nwhich surpass the capabilities of today's classical digital computers, but\\nnoise in quantum gates will limit the size of quantum circuits that can be\\nexecuted reliably. NISQ devices will be useful tools for exploring many-body\\nquantum physics, and may have other useful applications, but the 100-qubit\\nquantum computer will not change the world right away --- we should regard it\\nas a significant step toward the more powerful quantum technologies of the\\nfuture. Quantum technologists should continue to strive for more accurate\\nquantum gates and, eventually, fully fault-tolerant quantum computing.\",\n",
       "  'year': '2018',\n",
       "  'id': 186257930939058954,\n",
       "  'journal': 'Unknown'},\n",
       " {'title': 'The Quantum Frontier',\n",
       "  'authors': 'Joseph F. Fitzsimons, Eleanor G. Rieffel, Valerio Scarani',\n",
       "  'abstract': 'The success of the abstract model of computation, in terms of bits, logical\\noperations, programming language constructs, and the like, makes it easy to\\nforget that computation is a physical process. Our cherished notions of\\ncomputation and information are grounded in classical mechanics, but the\\nphysics underlying our world is quantum. In the early 80s researchers began to\\nask how computation would change if we adopted a quantum mechanical, instead of\\na classical mechanical, view of computation. Slowly, a new picture of\\ncomputation arose, one that gave rise to a variety of faster algorithms, novel\\ncryptographic mechanisms, and alternative methods of communication. Small\\nquantum information processing devices have been built, and efforts are\\nunderway to build larger ones. Even apart from the existence of these devices,\\nthe quantum view on information processing has provided significant insight\\ninto the nature of computation and information, and a deeper understanding of\\nthe physics of our universe and its connections with computation.\\n  We start by describing aspects of quantum mechanics that are at the heart of\\na quantum view of information processing. We give our own idiosyncratic view of\\na number of these topics in the hopes of correcting common misconceptions and\\nhighlighting aspects that are often overlooked. A number of the phenomena\\ndescribed were initially viewed as oddities of quantum mechanics. It was\\nquantum information processing, first quantum cryptography and then, more\\ndramatically, quantum computing, that turned the tables and showed that these\\noddities could be put to practical effect. It is these application we describe\\nnext. We conclude with a section describing some of the many questions left for\\nfuture work, especially the mysteries surrounding where the power of quantum\\ninformation ultimately comes from.',\n",
       "  'year': '2012',\n",
       "  'id': 311131469367912104,\n",
       "  'journal': 'Unknown'},\n",
       " {'title': 'The universe as quantum computer',\n",
       "  'authors': 'Seth Lloyd',\n",
       "  'abstract': 'This article reviews the history of digital computation, and investigates\\njust how far the concept of computation can be taken. In particular, I address\\nthe question of whether the universe itself is in fact a giant computer, and if\\nso, just what kind of computer it is. I will show that the universe can be\\nregarded as a giant quantum computer. The quantum computational model of the\\nuniverse explains a variety of observed phenomena not encompassed by the\\nordinary laws of physics. In particular, the model shows that the the quantum\\ncomputational universe automatically gives rise to a mix of randomness and\\norder, and to both simple and complex systems.',\n",
       "  'year': '2013',\n",
       "  'id': 841738489186214549,\n",
       "  'journal': 'Unknown'},\n",
       " {'title': 'Why now is the right time to study quantum computing',\n",
       "  'authors': 'Aram W. Harrow',\n",
       "  'abstract': \"Quantum computing is a good way to justify difficult physics experiments. But\\nuntil quantum computers are built, do computer scientists need to know anything\\nabout quantum information? In fact, quantum computing is not merely a recipe\\nfor new computing devices, but a new way of looking at the world that has been\\nastonishingly intellectually productive. In this article, I'll talk about where\\nquantum computing came from, what it is, and what we can learn from it.\",\n",
       "  'year': '2014',\n",
       "  'id': 164243657720136436,\n",
       "  'journal': 'Unknown'},\n",
       " {'title': 'A blueprint for demonstrating quantum supremacy with superconducting\\n  qubits',\n",
       "  'authors': 'C. Neill, P. Roushan, K. Kechedzhi, S. Boixo, S. V. Isakov, V. Smelyanskiy, R. Barends, B. Burkett, Y. Chen, Z. Chen, B. Chiaro, A. Dunsworth, A. Fowler, B. Foxen, R. Graff, E. Jeffrey, J. Kelly, E. Lucero, A. Megrant, J. Mutus, M. Neeley, C. Quintana, D. Sank, A. Vainsencher, J. Wenner, T. C. White, H. Neven, J. M. Martinis',\n",
       "  'abstract': 'Fundamental questions in chemistry and physics may never be answered due to\\nthe exponential complexity of the underlying quantum phenomena. A desire to\\novercome this challenge has sparked a new industry of quantum technologies with\\nthe promise that engineered quantum systems can address these hard problems. A\\nkey step towards demonstrating such a system will be performing a computation\\nbeyond the capabilities of any classical computer, achieving so-called quantum\\nsupremacy. Here, using 9 superconducting qubits, we demonstrate an immediate\\npath towards quantum supremacy. By individually tuning the qubit parameters, we\\nare able to generate thousands of unique Hamiltonian evolutions and probe the\\noutput probabilities. The measured probabilities obey a universal distribution,\\nconsistent with uniformly sampling the full Hilbert-space. As the number of\\nqubits in the algorithm is varied, the system continues to explore the\\nexponentially growing number of states. Combining these large datasets with\\ntechniques from machine learning allows us to construct a model which\\naccurately predicts the measured probabilities. We demonstrate an application\\nof these algorithms by systematically increasing the disorder and observing a\\ntransition from delocalized states to localized states. By extending these\\nresults to a system of 50 qubits, we hope to address scientific questions that\\nare beyond the capabilities of any classical computer.',\n",
       "  'year': '2017',\n",
       "  'id': 160905676816331819,\n",
       "  'journal': 'Unknown'},\n",
       " {'title': 'Breaking the 49-Qubit Barrier in the Simulation of Quantum Circuits',\n",
       "  'authors': 'Edwin Pednault, John A. Gunnels, Giacomo Nannicini, Lior Horesh, Thomas Magerlein, Edgar Solomonik, Robert Wisnieff',\n",
       "  'abstract': 'With the current rate of progress in quantum computing technologies, systems\\nwith more than 50 qubits will soon become reality. Computing ideal quantum\\nstate amplitudes for devices of such and larger sizes is a fundamental step to\\nassess their fidelity, but memory requirements for such calculations on\\nclassical computers grow exponentially. In this study, we present a new\\napproach for this task that extends the boundaries of what can be computed on a\\nclassical system. We present results obtained from a calculation of the\\ncomplete set of output amplitudes of a universal random circuit with depth 27\\nin a 2D lattice of $7 \\\\times 7$ qubits, and an arbitrarily selected slice of\\n$2^{37}$ amplitudes of a universal random circuit with depth 23 in a 2D lattice\\nof $8 \\\\times 7$ qubits. Combining our methodology with other decomposition\\ntechniques found in the literature, we show that we can simulate $7 \\\\times\\n7$-qubit random circuits to arbitrary depth by leveraging secondary storage.\\nThese calculations were thought to be impossible due to memory requirements;\\nour methodology requires memory within the limits of existing classical\\ncomputers.',\n",
       "  'year': '2017',\n",
       "  'id': 329863647705803003,\n",
       "  'journal': 'Unknown'}]"
      ]
     },
     "execution_count": 89,
     "metadata": {},
     "output_type": "execute_result"
    }
   ],
   "source": [
    " # reformat and get paper data\n",
    "output = []\n",
    "\n",
    "for paper in ids:\n",
    "    paper_data = papers.getByQuery({\"paper_id\": paper})[0]\n",
    "    \n",
    "    del paper_data[\"paper_id\"]\n",
    "    del paper_data[\"citations\"]\n",
    "    paper_data[\"journal\"] = \"Unknown\"\n",
    "    paper_data[\"authors\"] = ', '.join(paper_data[\"authors\"])\n",
    "\n",
    "    # print(paper['read'], paper['saved'])\n",
    "\n",
    "    output.append(paper_data)\n",
    "\n",
    "output"
   ]
  },
  {
   "cell_type": "code",
   "execution_count": 97,
   "metadata": {},
   "outputs": [
    {
     "name": "stdout",
     "output_type": "stream",
     "text": [
      "[\n",
      "  {\n",
      "    \"abstract\": \"The properties which give quantum mechanics its unique character - unitarity,\\ncomplementarity, non-commutativity, uncertainty, nonlocality - derive from the\\nalgebraic structure of Hermitian operators acting on the wavefunction in\\ncomplex Hilbert space. Because of this, the wavefunction cannot be shown to\\ndescribe an ensemble of deterministic states where uncertainty simply reflects\\na lack of knowledge about which ensemble member describes reality. This has led\\nto endless debates about the ontology of quantum mechanics.\\n  Here we derive these same quantum properties from number theoretic attributes\\nof trigonometric functions applied to an explicitly ensemble-based\\nrepresentation of discretised complex Hilbert states. To avoid fine-tuning, the\\nmetric on state space must be $p$-adic rather than Euclidean where $1/p$\\ndetermines the fineness of the discretisation. This hints at both the existence\\nof an underpinning fractal state-space geometry onto which states of the world\\nare constrained. In this model, violation of Bell inequalities is a\\nmanifestation of this geometric constraint and does not imply a breakdown of\\nlocal space-time causality.\\n  Because the discretised wavefunction describes an ensemble of states, there\\nis no collapse of the wavefunction. Instead measurement describes a nonlinear\\nclustering of state-space trajectories on the state-space geometry. In this\\nmodel, systems with mass greater than the Planck mass will not exhibit quantum\\nproperties and instead behave classically. The geometric constraint suggests\\nthat the exponential increase in the size of state space with qubit number may\\nbreak down with qubit numbers as small as a few hundred. Quantum mechanics is\\nitself a singular limit of this number-theoretic model at $p=\\\\infty$. A\\nmodification of general relativity, consistent with this discretised model of\\nquantum physics, is proposed.\",\n",
      "    \"authors\": \"Tim Palmer\",\n",
      "    \"id\": 662089065638338854,\n",
      "    \"journal\": \"Unknown\",\n",
      "    \"title\": \"Quantum Physics from Number Theory\",\n",
      "    \"year\": \"2022\"\n",
      "  },\n",
      "  {\n",
      "    \"abstract\": \"We still lack any consensus about what one is actually talking about as one\\nuses quantum mechanics. There is a gap between the abstract terms in which the\\ntheory is couched and the phenomena the theory enables each of us to account\\nfor so well. Because it has no practical consequences for how we each use\\nquantum mechanics to deal with physical problems, this cognitive dissonance has\\nmanaged to coexist with the quantum theory from the very beginning. The absence\\nof conceptual clarity for almost a century suggests that the problem might lie\\nin some implicit misconceptions about the nature of scientific explanation that\\nare deeply held by virtually all physicists, but are rarely explicitly\\nacknowledged. I describe here such unvoiced but widely shared assumptions.\\nRejecting them clarifies and unifies a range of obscure remarks about quantum\\nmechanics made almost from the beginning by some of the giants of physics, many\\nof whom are held to be in deep disagreement. This new view of physics requires\\nphysicists to think about science in an unfamiliar way. My primary purpose is\\nto explain the new perspective and urge that it be taken seriously. My\\nsecondary aims are to explain why this perspective differs significantly from\\nwhat Bohr, Heisenberg, and Pauli had been saying from the very beginning, and\\nwhy it is not solipsism, as some have maintained. To emphasize that this is a\\ngeneral view of science, and not just of quantum mechanics, I apply it to a\\nlong-standing puzzle in classical physics: the apparent inability of physics to\\ngive any meaning to \\\"Now\\\" --- the present moment.\",\n",
      "    \"authors\": \"N. David Mermin\",\n",
      "    \"id\": 508571525031076241,\n",
      "    \"journal\": \"Unknown\",\n",
      "    \"title\": \"Making better sense of quantum mechanics\",\n",
      "    \"year\": \"2018\"\n",
      "  },\n",
      "  {\n",
      "    \"abstract\": \"The properties which give quantum mechanics its unique character - unitarity,\\ncomplementarity, non-commutativity, uncertainty, nonlocality - derive from the\\nalgebraic structure of Hermitian operators acting on the wavefunction in\\ncomplex Hilbert space. Because of this, the wavefunction cannot be shown to\\ndescribe an ensemble of deterministic states where uncertainty simply reflects\\na lack of knowledge about which ensemble member describes reality. This has led\\nto endless debates about the ontology of quantum mechanics.\\n  Here we derive these same quantum properties from number theoretic attributes\\nof trigonometric functions applied to an explicitly ensemble-based\\nrepresentation of discretised complex Hilbert states. To avoid fine-tuning, the\\nmetric on state space must be $p$-adic rather than Euclidean where $1/p$\\ndetermines the fineness of the discretisation. This hints at both the existence\\nof an underpinning fractal state-space geometry onto which states of the world\\nare constrained. In this model, violation of Bell inequalities is a\\nmanifestation of this geometric constraint and does not imply a breakdown of\\nlocal space-time causality.\\n  Because the discretised wavefunction describes an ensemble of states, there\\nis no collapse of the wavefunction. Instead measurement describes a nonlinear\\nclustering of state-space trajectories on the state-space geometry. In this\\nmodel, systems with mass greater than the Planck mass will not exhibit quantum\\nproperties and instead behave classically. The geometric constraint suggests\\nthat the exponential increase in the size of state space with qubit number may\\nbreak down with qubit numbers as small as a few hundred. Quantum mechanics is\\nitself a singular limit of this number-theoretic model at $p=\\\\infty$. A\\nmodification of general relativity, consistent with this discretised model of\\nquantum physics, is proposed.\",\n",
      "    \"authors\": \"Tim Palmer\",\n",
      "    \"id\": 662089065638338854,\n",
      "    \"journal\": \"Unknown\",\n",
      "    \"title\": \"Quantum Physics from Number Theory\",\n",
      "    \"year\": \"2022\"\n",
      "  },\n",
      "  {\n",
      "    \"abstract\": \"Newton's mechanical revolution unifies the motion of planets in the sky and\\nfalling of apple on earth. Maxwell's electromagnetic revolution unifies\\nelectricity, magnetism, and light. Einstein's relativity revolution unifies\\nspace with time, and gravity with space-time distortion. The quantum revolution\\nunifies particle with waves, and energy with frequency. Each of those\\nrevolution changes our world view. In this article, we will describe a\\nrevolution that is happening now: the second quantum revolution which unifies\\nmatter/space with information. In other words, the new world view suggests that\\nelementary particles (the bosonic force particles and fermionic matter\\nparticles) all originated from quantum information (qubits): they are\\ncollective excitations of an entangled qubit ocean that corresponds to our\\nspace. The beautiful geometric Yang-Mills gauge theory and the strange Fermi\\nstatistics of matter particles now have a common algebraic quantum\\ninformational origin.\",\n",
      "    \"authors\": \"Xiao-Gang Wen\",\n",
      "    \"id\": 401286131054780776,\n",
      "    \"journal\": \"Unknown\",\n",
      "    \"title\": \"Four revolutions in physics and the second quantum revolution -- a\\n  unification of force and matter by quantum information\",\n",
      "    \"year\": \"2017\"\n",
      "  },\n",
      "  {\n",
      "    \"abstract\": \"The ideas and results that are in the background of the 2022 Nobel Prize in\\nphysics had an immense impact on our understanding of reality. Therefore, it is\\ncrucial that these implications reach also the general public, not only the\\nscientists in the related fields of quantum mechanics. The purpose of this\\nreview is to attempt to elucidate these revolutionary changes in our worldview\\nthat were eventually acknowledged also by the Nobel's committee, and to do it\\nwith very few references to mathematical details (which could be even ignored\\nwithout undermining the take-away essence of the text).\\n  We first look into the foundational disputes between Einstein and Bohr about\\nthe nature of quantum mechanics, which culminated in the so-called EPR paradox\\n-- the main impetus for all the research that would ensue in this context.\\nNext, we try to explain the statement of the famous Bell's theorem -- the\\ntheorem that relocated the Einstain-Bohr discussions from the realm of\\nphilosophy and metaphysics to hard-core physics verifiable by experiments (we\\nalso give a brief derivation of the theorem's proof). Then we overview the\\nexperimental work of the last year's laureates, that had the final say about\\nwho was right in the debate. The outcome of these experiments forced us to\\nprofoundly revise our understanding of the universe. Finally, we discuss in\\nmore detail the implications of such outcomes, and what are the possible ways\\nthat our worldviews can be modified to account for the experimental facts. As\\nwe will see, the standard mechanist picture of the universe is no longer a\\nviable option, and can be never again. Nowadays, we know this with certainty\\nunusual for physics, that only a strict mathematical theorem could provide.\",\n",
      "    \"authors\": \"Igor Salom\",\n",
      "    \"id\": 470167268712878696,\n",
      "    \"journal\": \"Unknown\",\n",
      "    \"title\": \"2022 Nobel Prize in Physics and the End of Mechanistic Materialism\",\n",
      "    \"year\": \"2023\"\n",
      "  },\n",
      "  {\n",
      "    \"abstract\": \"This article reviews the history of digital computation, and investigates\\njust how far the concept of computation can be taken. In particular, I address\\nthe question of whether the universe itself is in fact a giant computer, and if\\nso, just what kind of computer it is. I will show that the universe can be\\nregarded as a giant quantum computer. The quantum computational model of the\\nuniverse explains a variety of observed phenomena not encompassed by the\\nordinary laws of physics. In particular, the model shows that the the quantum\\ncomputational universe automatically gives rise to a mix of randomness and\\norder, and to both simple and complex systems.\",\n",
      "    \"authors\": \"Seth Lloyd\",\n",
      "    \"id\": 841738489186214549,\n",
      "    \"journal\": \"Unknown\",\n",
      "    \"title\": \"The universe as quantum computer\",\n",
      "    \"year\": \"2013\"\n",
      "  },\n",
      "  {\n",
      "    \"abstract\": \"It is known from quantum mechanics that particles are associated with wave\\nfunctions, and that the probability of observing a particle at some future\\nlocation is proportional to the squared modulus of the amplitude of its wave\\nfunction. Although this statistical relationship is well quantified, the\\ninterpretations have remained controversial, with many split between the\\nclassical Copenhagen interpretation and some variation of the de Broglie-Bohm\\npilot wave models. Recent experiments with Hydrodynamic Quantum Analogs (HQAs)\\nhave demonstrated that droplets of real fluid may achieve stable dynamical\\nstates, where interaction of the droplets with their own ripples results in\\nmotion analogous to the motion of particles subject to the guiding equation\\nunder the pilot wave models. Indeed, many effects previously thought to be\\nexclusively quantum have now been observed as emergent phenomena in these\\nmacroscopic HQAs. This has motivated us to explore the possibility that quantum\\nmechanics may actually be the result of fluid dynamics on some real quantum\\nscale fluid. In this paper, we show that if there is a real quantum scale fluid\\nhaving dynamics analogous to the fluid in HQAs, then this fluid must be a\\nsuperfluid, and the dynamics of that fluid must take place on the surface of a\\n4-dimensional hypersphere. Under the influence of cosmological inflation, we\\nfurther show that these bouncing droplets would have the illusion of a property\\nanalogous to rest mass, and that the principles of inertia, momentum,\\nmass-energy equivalence, general relativity, the uncertainty principle and the\\nappearance of a time-like dimension can all be derived for droplets as purely\\nemergent phenomena from the fluid dynamics of this system. As such, we believe\\nthat this model merits consideration as a potential foundation for a new\\nunifying theory of physics at all scales.\",\n",
      "    \"authors\": \"Stuart Heinrich\",\n",
      "    \"id\": 297951440818086868,\n",
      "    \"journal\": \"Unknown\",\n",
      "    \"title\": \"Quantum Fluid Dynamics on the Hypersphere\",\n",
      "    \"year\": \"2022\"\n",
      "  },\n",
      "  {\n",
      "    \"abstract\": \"This article reviews the history of digital computation, and investigates\\njust how far the concept of computation can be taken. In particular, I address\\nthe question of whether the universe itself is in fact a giant computer, and if\\nso, just what kind of computer it is. I will show that the universe can be\\nregarded as a giant quantum computer. The quantum computational model of the\\nuniverse explains a variety of observed phenomena not encompassed by the\\nordinary laws of physics. In particular, the model shows that the the quantum\\ncomputational universe automatically gives rise to a mix of randomness and\\norder, and to both simple and complex systems.\",\n",
      "    \"authors\": \"Seth Lloyd\",\n",
      "    \"id\": 841738489186214549,\n",
      "    \"journal\": \"Unknown\",\n",
      "    \"title\": \"The universe as quantum computer\",\n",
      "    \"year\": \"2013\"\n",
      "  },\n",
      "  {\n",
      "    \"abstract\": \"Quantum physics, which describes the strange behavior of light and matter at\\nthe smallest scales, is one of the most successful descriptions of reality, yet\\nit is notoriously inaccessible. Here we provide an approachable explanation of\\nquantum physics using simple thought experiments. We derive all relevant\\nquantum predictions using minimal mathematics, without introducing the advanced\\ncalculations that are typically used to describe quantum physics. We focus on\\nthe two key surprises of quantum physics, namely wave-particle duality, a term\\nthat was introduced to capture the fact that single quantum particles in some\\nrespects behave like waves and in other respects like particles, and\\nentanglement, which applies to two or more quantum particles and brings out the\\ninherent contradiction between quantum physics and seemingly obvious\\nassumptions regarding the nature of reality. Following arguments originally\\nmade by John Bell and Lucien Hardy, we show that the so-called local hidden\\nvariables are inadequate at explaining the behavior of entangled quantum\\nparticles. This means that one either has to give up on hidden variables, i.e.,\\nthe idea that the outcomes of measurements on quantum particles are determined\\nbefore an experiment is actually carried out, or one has to relinquish the\\nprinciple of locality, which requires that no causal influences should be\\nfaster than the speed of light and is a cornerstone of Einstein's theory of\\nrelativity. Finally, we describe how these remarkable predictions of quantum\\nphysics have been confirmed in experiments. We have successfully used the\\npresent approach in a course that is open to all undergraduate students at the\\nUniversity of Calgary, without any prerequisites in mathematics or physics.\",\n",
      "    \"authors\": \"Ish Dhand, Adam D'Souza, Varun Narasimhachar, Neil Sinclair, Stephen Wein, Parisa Zarkeshian, Alireza Poostindouz, Christoph Simon\",\n",
      "    \"id\": 282176271712269032,\n",
      "    \"journal\": \"Unknown\",\n",
      "    \"title\": \"Understanding quantum physics through simple experiments: from\\n  wave-particle duality to Bell's theorem\",\n",
      "    \"year\": \"2018\"\n",
      "  }\n",
      "]\n",
      "\n"
     ]
    }
   ],
   "source": [
    "url = \"http://localhost:3000/api/search\"\n",
    "args = {\n",
    "    \"query\": \"quantum physics\",\n",
    "    \"project_id\": \"754468843766675212\",\n",
    "}\n",
    "\n",
    "\n",
    "response = requests.get(url, params=args)\n",
    "\n",
    "print(response.text)\n",
    "\n",
    "# add_project(\"robotaics\")"
   ]
  },
  {
   "cell_type": "code",
   "execution_count": 9,
   "metadata": {},
   "outputs": [],
   "source": [
    "import random"
   ]
  },
  {
   "cell_type": "code",
   "execution_count": 10,
   "metadata": {},
   "outputs": [
    {
     "data": {
      "text/plain": [
       "0.7797139512452512"
      ]
     },
     "execution_count": 10,
     "metadata": {},
     "output_type": "execute_result"
    }
   ],
   "source": [
    "random.uniform(0, 1)"
   ]
  },
  {
   "cell_type": "code",
   "execution_count": 11,
   "metadata": {},
   "outputs": [
    {
     "ename": "AttributeError",
     "evalue": "'list' object has no attribute 'updateById'",
     "output_type": "error",
     "traceback": [
      "\u001b[1;31m---------------------------------------------------------------------------\u001b[0m",
      "\u001b[1;31mAttributeError\u001b[0m                            Traceback (most recent call last)",
      "Cell \u001b[1;32mIn[11], line 4\u001b[0m\n\u001b[0;32m      1\u001b[0m entries \u001b[39m=\u001b[39m projPapers\u001b[39m.\u001b[39mgetAll()\n\u001b[0;32m      3\u001b[0m \u001b[39mfor\u001b[39;00m entry \u001b[39min\u001b[39;00m entries:\n\u001b[1;32m----> 4\u001b[0m     entries\u001b[39m.\u001b[39;49mupdateById(entry[\u001b[39m\"\u001b[39m\u001b[39mid\u001b[39m\u001b[39m\"\u001b[39m], {\u001b[39m\"\u001b[39m\u001b[39mrating\u001b[39m\u001b[39m\"\u001b[39m: random\u001b[39m.\u001b[39muniform(\u001b[39m0\u001b[39m, \u001b[39m1\u001b[39m)})\n",
      "\u001b[1;31mAttributeError\u001b[0m: 'list' object has no attribute 'updateById'"
     ]
    }
   ],
   "source": [
    "entries = projPapers.getAll()\n",
    "\n",
    "for entry in entries:\n",
    "    projPapers.updateById(entry[\"id\"], {\"rating\": random.uniform(0, 1)})"
   ]
  }
 ],
 "metadata": {
  "kernelspec": {
   "display_name": ".venv",
   "language": "python",
   "name": "python3"
  },
  "language_info": {
   "codemirror_mode": {
    "name": "ipython",
    "version": 3
   },
   "file_extension": ".py",
   "mimetype": "text/x-python",
   "name": "python",
   "nbconvert_exporter": "python",
   "pygments_lexer": "ipython3",
   "version": "3.11.5"
  },
  "orig_nbformat": 4
 },
 "nbformat": 4,
 "nbformat_minor": 2
}
